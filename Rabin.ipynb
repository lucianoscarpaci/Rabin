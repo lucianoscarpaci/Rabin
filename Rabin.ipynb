{
 "cells": [
  {
   "cell_type": "code",
   "execution_count": 30,
   "id": "9bc5669f-6317-450d-b1ec-7018038ef893",
   "metadata": {},
   "outputs": [],
   "source": [
    "from sage.all import random_prime, inverse_mod\n",
    "from sage.crypto.util import is_blum_prime\n",
    "\n",
    "class rabin_key_generation:\n",
    "    def __init__(self, p, q):\n",
    "        self.p = p\n",
    "        self.q = q\n",
    "\n",
    "    def calculate_a(self):\n",
    "        # A is n = p * q\n",
    "        # A = self.p * self.q\n",
    "        A = p * q\n",
    "        return A\n",
    "\n",
    "class rabin_encryption:\n",
    "    def __init__(self, m, n):\n",
    "        self.m = m\n",
    "        self.n = n\n",
    "\n",
    "    def encryption(self):\n",
    "        # Encrypt message by calculating m2 mod n\n",
    "        m = self.m\n",
    "        n = self.n\n",
    "        ciphertext = pow(m, 2, n)\n",
    "        return ciphertext\n",
    "\n",
    "class rabin_decryption:\n",
    "    def __init__(self, ciphertext, p, q):\n",
    "        self.ciphertext = ciphertext\n",
    "        self.p = p\n",
    "        self.q = q\n",
    "        self.n = p * q\n",
    "\n",
    "    def decryption(self):\n",
    "        # c = self.ciphertext\n",
    "        c = ciphertext\n",
    "\n",
    "        p1 = pow(c, (p + 1) // 4, p)\n",
    "        p2 = p - p1\n",
    "        q1 = pow(c, (q + 1) // 4, q)\n",
    "        q2 = q - q1\n",
    "\n",
    "        # Chinese remainder theorem\n",
    "        p_inverse = inverse_mod(p, q)\n",
    "        q_inverse = inverse_mod(q, p)\n",
    "\n",
    "        root1 = (p1 * q * q_inverse + q1 * p * p_inverse) % self.n\n",
    "        root2 = (p2 * q * q_inverse + q1 * p * p_inverse) % self.n\n",
    "        root3 = (p1 * q * q_inverse + q2 * p * p_inverse) % self.n\n",
    "        root4 = (p2 * q * q_inverse + q2 * p * p_inverse) % self.n\n",
    "\n",
    "        return root1, root2, root3, root4\n",
    "\n",
    "class crypt3r:\n",
    "    def blum_prime(self, blength):\n",
    "        while True:\n",
    "            p = random_prime(2^blength, lbound=2^(blength-1))\n",
    "            if is_blum_prime(p):\n",
    "                return p "
   ]
  },
  {
   "cell_type": "code",
   "execution_count": 32,
   "id": "cb965786-31b2-494f-ac69-dd15f7f90a4b",
   "metadata": {},
   "outputs": [
    {
     "name": "stdout",
     "output_type": "stream",
     "text": [
      "public key: 6051796996899308564828356694064427718922741519026711517224903776257292038260060114872598204581179112116829321382356602851239736755608865045609216464399289\n",
      "\n",
      "ciphertext: 16674331989647304962620277935559902244586929271613956298641\n",
      "\n",
      "(129129129129129129129129129129, 4079693242389193730414436087795828378380606127538854943025033901016863227838731938972585442492389692273042083433074380135191785578446337750775251697675218, 1972103754510114834413920606268599340542135391487856574199869875240428810421328175900012762088789419843787237949282222716047951177162527294833964766724071, 6051796996899308564828356694064427718922741519026711517224903776257292038260060114872598204581179112116829321382356602851239607626479735916480087335270160)\n",
      "\n",
      "plaintext: 129129129129129129129129129129\n"
     ]
    }
   ],
   "source": [
    "blum = crypt3r()\n",
    "p = blum.blum_prime(256)\n",
    "q = blum.blum_prime(256)\n",
    "\n",
    "key_gen = rabin_key_generation(p, q)\n",
    "A = key_gen.calculate_a()\n",
    "print(f\"public key: {A}\")\n",
    "\n",
    "message = 129129129129129129129129129129\n",
    "\n",
    "rabin_encrypt = rabin_encryption(message, A)\n",
    "ciphertext = rabin_encrypt.encryption()\n",
    "print(f\"\\nciphertext: {ciphertext}\")\n",
    "\n",
    "rabin_decrypt = rabin_decryption(ciphertext, p, q)\n",
    "plaintext = rabin_decrypt.decryption()\n",
    "\n",
    "# print all plaintexts\n",
    "print(f\"\\n{plaintext}\")\n",
    "\n",
    "if message in plaintext:\n",
    "    print(f\"\\nplaintext: {message}\")\n",
    "else:\n",
    "    print(f\"decryption unknown\")"
   ]
  },
  {
   "cell_type": "code",
   "execution_count": null,
   "id": "3459cb31-f377-425e-9926-077a98177505",
   "metadata": {},
   "outputs": [],
   "source": []
  }
 ],
 "metadata": {
  "kernelspec": {
   "display_name": "SageMath 10.4",
   "language": "sage",
   "name": "sagemath"
  },
  "language_info": {
   "codemirror_mode": {
    "name": "ipython",
    "version": 3
   },
   "file_extension": ".py",
   "mimetype": "text/x-python",
   "name": "python",
   "nbconvert_exporter": "python",
   "pygments_lexer": "ipython3",
   "version": "3.12.4"
  }
 },
 "nbformat": 4,
 "nbformat_minor": 5
}
